{
 "cells": [
  {
   "cell_type": "markdown",
   "metadata": {},
   "source": [
    "# Ejercicio 1"
   ]
  },
  {
   "cell_type": "code",
   "execution_count": 5,
   "metadata": {},
   "outputs": [
    {
     "name": "stdout",
     "output_type": "stream",
     "text": [
      "1\n",
      "['Mercury']\n",
      "2\n",
      "['Mercury', 'Venus']\n",
      "3\n",
      "['Mercury', 'Venus', 'Earth']\n",
      "4\n",
      "['Mercury', 'Venus', 'Earth', 'Mars']\n",
      "5\n",
      "['Mercury', 'Venus', 'Earth', 'Mars', 'Jupiter']\n",
      "6\n",
      "['Mercury', 'Venus', 'Earth', 'Mars', 'Jupiter', 'Saturn']\n",
      "7\n",
      "['Mercury', 'Venus', 'Earth', 'Mars', 'Jupiter', 'Saturn', 'Neptune']\n"
     ]
    }
   ],
   "source": [
    "new_planet = '';\n",
    "planets = [];\n",
    "\n",
    "while new_planet != \"done\":\n",
    "    new_planet = input('Ingresa el planeta: ');\n",
    "    if new_planet and new_planet != \"done\":\n",
    "        planets.append(new_planet);\n",
    "        print(len(planets));\n",
    "        print(planets);\n",
    "\n"
   ]
  },
  {
   "cell_type": "markdown",
   "metadata": {},
   "source": [
    "# Ejercicio 2"
   ]
  },
  {
   "cell_type": "code",
   "execution_count": 10,
   "metadata": {},
   "outputs": [
    {
     "name": "stdout",
     "output_type": "stream",
     "text": [
      "Mercury\n",
      "Venus\n",
      "Earth\n",
      "Mars\n",
      "Jupiter\n",
      "Saturn\n",
      "Neptune\n"
     ]
    }
   ],
   "source": [
    "planets = ['Mercury', 'Venus', 'Earth', 'Mars', 'Jupiter', 'Saturn', 'Neptune'];\n",
    "\n",
    "for i in planets:\n",
    "\n",
    "    print(i);"
   ]
  }
 ],
 "metadata": {
  "interpreter": {
   "hash": "4a6d069c607df1fa5b18261818fbc40aef308d608c77693896acd859bd673731"
  },
  "kernelspec": {
   "display_name": "Python 3.10.2 64-bit",
   "language": "python",
   "name": "python3"
  },
  "language_info": {
   "codemirror_mode": {
    "name": "ipython",
    "version": 3
   },
   "file_extension": ".py",
   "mimetype": "text/x-python",
   "name": "python",
   "nbconvert_exporter": "python",
   "pygments_lexer": "ipython3",
   "version": "3.10.2"
  },
  "orig_nbformat": 4
 },
 "nbformat": 4,
 "nbformat_minor": 2
}
