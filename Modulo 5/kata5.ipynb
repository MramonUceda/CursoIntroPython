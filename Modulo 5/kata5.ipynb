{
 "cells": [
  {
   "cell_type": "code",
   "execution_count": 6,
   "metadata": {},
   "outputs": [
    {
     "name": "stdout",
     "output_type": "stream",
     "text": [
      "-----------Usando la lóca de primer planeta, menos el segundo----------------\n",
      "-628949330.621\n",
      "Ya que en las instrucciones ese es el orden.\n",
      "---------------------------\n",
      "628949329.379\n"
     ]
    }
   ],
   "source": [
    "planetaTierra = 149597870;\n",
    "planetaJupiter = 778547200;\n",
    "\n",
    "print(\"-----------Usando la lóca de primer planeta, menos el segundo----------------\");\n",
    "result = planetaTierra - planetaJupiter;\n",
    "\n",
    "print(result-0.621);\n",
    "\n",
    "print(\"Ya que en las instrucciones ese es el orden.\");\n",
    "\n",
    "print(\"---------------------------\");\n",
    "\n",
    "result = planetaJupiter  - planetaTierra;\n",
    "\n",
    "print(result-0.621);\n"
   ]
  },
  {
   "cell_type": "markdown",
   "metadata": {},
   "source": [
    "# Ejercicio 2"
   ]
  },
  {
   "cell_type": "code",
   "execution_count": 13,
   "metadata": {},
   "outputs": [
    {
     "name": "stdout",
     "output_type": "stream",
     "text": [
      "20\n",
      "30\n",
      "10\n",
      "6.24\n"
     ]
    }
   ],
   "source": [
    "distanciaSolPrimerPlaneta = input('Ingresa la distancia del sol para el primer plenta: ');\n",
    "distanciaSolSegundoPlaneta = input('Ingresa la distancia del sol para el segundo plenta: ');\n",
    "print(distanciaSolPrimerPlaneta);\n",
    "print(distanciaSolSegundoPlaneta);\n",
    "\n",
    "distanciaSolPrimerPlanetaInt = int(distanciaSolPrimerPlaneta)\n",
    "distanciaSolSegundoPlanetaInt = int(distanciaSolSegundoPlaneta)\n",
    "\n",
    "distanciaEnKilometros =  abs(distanciaSolSegundoPlanetaInt - distanciaSolPrimerPlanetaInt);\n",
    "print(distanciaEnKilometros);\n",
    "\n",
    "print(abs(distanciaEnKilometros * 0.624));"
   ]
  }
 ],
 "metadata": {
  "interpreter": {
   "hash": "e44df1fa214db75ec61901c2d6cd3c39ac3d1c3b1aab93595e0abf4facf583a4"
  },
  "kernelspec": {
   "display_name": "Python 3.10.2 ('env': venv)",
   "language": "python",
   "name": "python3"
  },
  "language_info": {
   "codemirror_mode": {
    "name": "ipython",
    "version": 3
   },
   "file_extension": ".py",
   "mimetype": "text/x-python",
   "name": "python",
   "nbconvert_exporter": "python",
   "pygments_lexer": "ipython3",
   "version": "3.10.2"
  },
  "orig_nbformat": 4
 },
 "nbformat": 4,
 "nbformat_minor": 2
}
