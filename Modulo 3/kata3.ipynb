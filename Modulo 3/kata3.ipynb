{
 "cells": [
  {
   "cell_type": "code",
   "execution_count": 1,
   "metadata": {},
   "outputs": [
    {
     "name": "stdout",
     "output_type": "stream",
     "text": [
      "Alerta a todos!\n"
     ]
    }
   ],
   "source": [
    "velocidad = 49\n",
    "\n",
    "if velocidad > 25:\n",
    "    print(\"Alerta a todos!\")"
   ]
  },
  {
   "cell_type": "code",
   "execution_count": 3,
   "metadata": {},
   "outputs": [
    {
     "name": "stdout",
     "output_type": "stream",
     "text": [
      "Sigue tu vida!\n"
     ]
    }
   ],
   "source": [
    "velicidadAsteroide = 19\n",
    "\n",
    "if velicidadAsteroide > 20:\n",
    "    print(\"Busca el asteroide en el cielo!\")\n",
    "elif velicidadAsteroide == 20:\n",
    "    print(\"Busca el asteroide\")\n",
    "else:\n",
    "    print(\"Sigue tu vida!\")"
   ]
  },
  {
   "cell_type": "code",
   "execution_count": 4,
   "metadata": {},
   "outputs": [
    {
     "name": "stdout",
     "output_type": "stream",
     "text": [
      "Se quema durante la entrada a la atomósfera\n"
     ]
    }
   ],
   "source": [
    "tamanoAsteroide = 20\n",
    "velicidadAsteroide = 25\n",
    "if tamanoAsteroide < 25:\n",
    "    print(\"Se quema durante la entrada a la atomósfera\")\n",
    "elif tamanoAsteroide > 25 and tamanoAsteroide < 1000 :\n",
    "    print(\"Tierra dañaada\")\n",
    "elif velocidad >= 20:\n",
    "    print(\"Busca en el cielo una luz\")\n",
    "else:\n",
    "    print(\"ok\")"
   ]
  }
 ],
 "metadata": {
  "interpreter": {
   "hash": "4a6d069c607df1fa5b18261818fbc40aef308d608c77693896acd859bd673731"
  },
  "kernelspec": {
   "display_name": "Python 3.10.2 64-bit",
   "language": "python",
   "name": "python3"
  },
  "language_info": {
   "codemirror_mode": {
    "name": "ipython",
    "version": 3
   },
   "file_extension": ".py",
   "mimetype": "text/x-python",
   "name": "python",
   "nbconvert_exporter": "python",
   "pygments_lexer": "ipython3",
   "version": "3.10.2"
  },
  "orig_nbformat": 4
 },
 "nbformat": 4,
 "nbformat_minor": 2
}
