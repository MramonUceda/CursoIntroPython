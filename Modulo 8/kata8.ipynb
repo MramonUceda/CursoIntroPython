{
 "cells": [
  {
   "cell_type": "markdown",
   "metadata": {},
   "source": [
    "# Ejercicio 1"
   ]
  },
  {
   "cell_type": "code",
   "execution_count": 8,
   "metadata": {},
   "outputs": [
    {
     "name": "stdout",
     "output_type": "stream",
     "text": [
      "Mars\n",
      "Mars\n",
      "{'name': 'Mars', 'moons': 2, 'circunferencia': {'polar': 6752, 'equatorial': 6792}}\n",
      "-------------------\n",
      "name: Mars KM\n",
      "moons: 2 KM\n",
      "circunferencia: {'polar': 6752, 'equatorial': 6792} KM\n"
     ]
    }
   ],
   "source": [
    "planet = {\n",
    "    'name': 'Mars',\n",
    "    'moons': 2\n",
    "};\n",
    "\n",
    "print(planet.get('name'));\n",
    "print(planet['name']);\n",
    "\n",
    "circunferencia = {\n",
    "    'polar': 6752,\n",
    "    'equatorial': 6792\n",
    "};\n",
    "\n",
    "planet.update({'circunferencia': circunferencia });\n",
    "\n",
    "print(planet);\n",
    "\n",
    "print(\"-------------------\");\n",
    "\n",
    "for key in planet.keys():\n",
    "    print(f'{key}: {planet[key]} KM');\n",
    "\n",
    "\n",
    "\n",
    "\n"
   ]
  },
  {
   "cell_type": "markdown",
   "metadata": {},
   "source": [
    "# Ejercicio 2"
   ]
  },
  {
   "cell_type": "code",
   "execution_count": 24,
   "metadata": {},
   "outputs": [
    {
     "name": "stdout",
     "output_type": "stream",
     "text": [
      "dict_values([0, 0, 1, 2, 79, 82, 27, 14, 5, 2, 1, 1])\n",
      "N° the moons: 12\n",
      "214\n",
      "17.833333333333332\n"
     ]
    }
   ],
   "source": [
    "planet_moons = {\n",
    "    'mercury': 0,\n",
    "    'venus': 0,\n",
    "    'earth': 1,\n",
    "    'mars': 2,\n",
    "    'jupiter': 79,\n",
    "    'saturn': 82,\n",
    "    'uranus': 27,\n",
    "    'neptune': 14,\n",
    "    'pluto': 5,\n",
    "    'haumea': 2,\n",
    "    'makemake': 1,\n",
    "    'eris': 1\n",
    "};\n",
    "\n",
    "moons = planet_moons.values();\n",
    "print(moons);\n",
    "\n",
    "\n",
    "planets = len(planet_moons.keys());\n",
    "print(\"N° the moons: \" + str(planets));\n",
    "\n",
    "\n",
    "total_moons = 0\n",
    "for moon in moons:\n",
    "    total_moons = total_moons + moon;\n",
    "\n",
    "\n",
    "print(total_moons);\n",
    "\n",
    "\n",
    "promedio = total_moons  / planets;\n",
    "\n",
    "print(promedio);\n",
    "\n"
   ]
  }
 ],
 "metadata": {
  "interpreter": {
   "hash": "4a6d069c607df1fa5b18261818fbc40aef308d608c77693896acd859bd673731"
  },
  "kernelspec": {
   "display_name": "Python 3.10.2 64-bit",
   "language": "python",
   "name": "python3"
  },
  "language_info": {
   "codemirror_mode": {
    "name": "ipython",
    "version": 3
   },
   "file_extension": ".py",
   "mimetype": "text/x-python",
   "name": "python",
   "nbconvert_exporter": "python",
   "pygments_lexer": "ipython3",
   "version": "3.10.2"
  },
  "orig_nbformat": 4
 },
 "nbformat": 4,
 "nbformat_minor": 2
}
