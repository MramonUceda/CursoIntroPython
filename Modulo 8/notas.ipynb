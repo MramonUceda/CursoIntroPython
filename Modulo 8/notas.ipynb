{
 "cells": [
  {
   "cell_type": "markdown",
   "metadata": {},
   "source": [
    "# Diccionario de Datos"
   ]
  },
  {
   "cell_type": "code",
   "execution_count": 1,
   "metadata": {},
   "outputs": [
    {
     "name": "stdout",
     "output_type": "stream",
     "text": [
      "Earth\n",
      "1\n"
     ]
    }
   ],
   "source": [
    "name = 'Earth'\n",
    "moons = 1\n",
    "\n",
    "print(name);\n",
    "print(moons);\n",
    "\n",
    "\n",
    "\n",
    "earth_name = 'Earth';\n",
    "earth_moons = 1;\n",
    "\n",
    "jupiter_name = 'Jupiter';\n",
    "jupiter_moons = 79;\n",
    "\n",
    "\n"
   ]
  },
  {
   "cell_type": "markdown",
   "metadata": {},
   "source": [
    "Un diccionario es una colección de pares clave-valor. "
   ]
  },
  {
   "cell_type": "code",
   "execution_count": 6,
   "metadata": {},
   "outputs": [
    {
     "name": "stdout",
     "output_type": "stream",
     "text": [
      "{'name': 'Earth', 'moons': 1}\n",
      "Earth\n",
      "Earth\n"
     ]
    }
   ],
   "source": [
    "planet = {\n",
    "    'name': 'Earth',\n",
    "    'moons': 1\n",
    "};\n",
    "\n",
    "print(planet);\n",
    "\n",
    "\n",
    "\n",
    "print(planet.get('name'));\n",
    "\n",
    "\n",
    "\n",
    "# planet['name'] es idéntico a usar planet.get('name')\n",
    "print(planet['name']);"
   ]
  },
  {
   "cell_type": "markdown",
   "metadata": {},
   "source": [
    "Sin existencia del valor"
   ]
  },
  {
   "cell_type": "code",
   "execution_count": 10,
   "metadata": {},
   "outputs": [
    {
     "name": "stdout",
     "output_type": "stream",
     "text": [
      "None\n"
     ]
    },
    {
     "ename": "KeyError",
     "evalue": "'wibble'",
     "output_type": "error",
     "traceback": [
      "\u001b[1;31m---------------------------------------------------------------------------\u001b[0m",
      "\u001b[1;31mKeyError\u001b[0m                                  Traceback (most recent call last)",
      "Input \u001b[1;32mIn [10]\u001b[0m, in \u001b[0;36m<module>\u001b[1;34m\u001b[0m\n\u001b[0;32m      1\u001b[0m wibble \u001b[38;5;241m=\u001b[39m planet\u001b[38;5;241m.\u001b[39mget(\u001b[38;5;124m'\u001b[39m\u001b[38;5;124mwibble\u001b[39m\u001b[38;5;124m'\u001b[39m); \u001b[38;5;66;03m# Regresa None\u001b[39;00m\n\u001b[0;32m      2\u001b[0m \u001b[38;5;28mprint\u001b[39m(wibble);\n\u001b[1;32m----> 3\u001b[0m wibble \u001b[38;5;241m=\u001b[39m \u001b[43mplanet\u001b[49m\u001b[43m[\u001b[49m\u001b[38;5;124;43m'\u001b[39;49m\u001b[38;5;124;43mwibble\u001b[39;49m\u001b[38;5;124;43m'\u001b[39;49m\u001b[43m]\u001b[49m \u001b[38;5;66;03m# Arroja un KeyError\u001b[39;00m\n\u001b[0;32m      4\u001b[0m \u001b[38;5;28mprint\u001b[39m(wibble)\n",
      "\u001b[1;31mKeyError\u001b[0m: 'wibble'"
     ]
    }
   ],
   "source": [
    "wibble = planet.get('wibble'); # Regresa None\n",
    "print(wibble);\n",
    "wibble = planet['wibble'] # Arroja un KeyError\n",
    "print(wibble);"
   ]
  },
  {
   "cell_type": "markdown",
   "metadata": {},
   "source": [
    "# Modificación de valores de un diccionario "
   ]
  },
  {
   "cell_type": "code",
   "execution_count": 22,
   "metadata": {},
   "outputs": [
    {
     "name": "stdout",
     "output_type": "stream",
     "text": [
      "{'name': 'Earth', 'moons': 1}\n",
      "----------------------\n",
      "{'name': 'Makemake', 'moons': 1}\n",
      "----------------------\n",
      "{'name': 'Makemake[]', 'moons': 1}\n",
      "---------------------------------\n",
      "{'name': 'Jupiter', 'moons': 79}\n",
      "---------------\n",
      "{'name': 'Jupiter[]', 'moons': 71}\n"
     ]
    }
   ],
   "source": [
    "planet = {\n",
    "    'name': 'Earth',\n",
    "    'moons': 1\n",
    "};\n",
    "print(planet);\n",
    "print(\"----------------------\");\n",
    "planet.update({'name': 'Makemake'});\n",
    "print(planet);\n",
    "print(\"----------------------\");\n",
    "\n",
    "planet['name'] = 'Makemake[]';\n",
    "print(planet)\n",
    "\n",
    "\n",
    "\n",
    "\n",
    "\n",
    "print(\"---------------------------------\");\n",
    "\n",
    "planet.update({\n",
    "    'name': 'Jupiter',\n",
    "    'moons': 79\n",
    "});\n",
    "\n",
    "print(planet);\n",
    "\n",
    "\n",
    "\n",
    "print(\"---------------\");\n",
    "\n",
    "# Usando corchetes\n",
    "planet['name'] = 'Jupiter[]'\n",
    "planet['moons'] = 71\n",
    "\n",
    "print(planet)"
   ]
  },
  {
   "cell_type": "markdown",
   "metadata": {},
   "source": [
    "# Adición y Eliminación de claves."
   ]
  },
  {
   "cell_type": "code",
   "execution_count": 25,
   "metadata": {},
   "outputs": [
    {
     "name": "stdout",
     "output_type": "stream",
     "text": [
      "{'name': 'Earth', 'moons': 1, 'orbital period': 4333}\n",
      "4333\n",
      "{'name': 'Earth', 'moons': 1}\n"
     ]
    }
   ],
   "source": [
    "planet = {\n",
    "    'name': 'Earth',\n",
    "    'moons': 1\n",
    "};\n",
    "\n",
    "planet['orbital period'] = 4333\n",
    "\n",
    "print(planet);\n",
    "\n",
    "print(planet.pop('orbital period'));\n",
    "print(planet);\n"
   ]
  },
  {
   "cell_type": "markdown",
   "metadata": {},
   "source": [
    "# Tipos de data complejos\n"
   ]
  },
  {
   "cell_type": "code",
   "execution_count": 31,
   "metadata": {},
   "outputs": [
    {
     "name": "stdout",
     "output_type": "stream",
     "text": [
      "{'name': 'Jupiter', 'moons': 79, 'diameter (km)': {'polar': 133709, 'equatorial': 142984}}\n",
      "Jupiter polar diameter: 133709\n"
     ]
    }
   ],
   "source": [
    "planet = {\n",
    "    'name': 'Jupiter',\n",
    "    'moons': 79\n",
    "};\n",
    "\n",
    "planet['diameter (km)'] = {\n",
    "    'polar': 133709,\n",
    "    'equatorial': 142984\n",
    "};\n",
    "print(planet);\n",
    "\n",
    "print(f'''{planet['name']} polar diameter: {planet['diameter (km)']['polar']}''');"
   ]
  },
  {
   "cell_type": "markdown",
   "metadata": {},
   "source": [
    "# Recuperación de todas las claves y valores\n"
   ]
  },
  {
   "cell_type": "code",
   "execution_count": 35,
   "metadata": {},
   "outputs": [
    {
     "name": "stdout",
     "output_type": "stream",
     "text": [
      "october: 3.5cm\n",
      "november: 4.2cm\n",
      "december: 2.1cm\n",
      "--------------------\n",
      "october\n",
      "november\n",
      "december\n"
     ]
    }
   ],
   "source": [
    "rainfall = {\n",
    "    'october': 3.5,\n",
    "    'november': 4.2,\n",
    "    'december': 2.1\n",
    "}\n",
    "\n",
    "\n",
    "\n",
    "for key in rainfall.keys():\n",
    "    print(f'{key}: {rainfall[key]}cm')\n",
    "\n",
    "\n",
    "print('--------------------');\n",
    "\n",
    "for key in rainfall:\n",
    "    print(key);\n"
   ]
  },
  {
   "cell_type": "markdown",
   "metadata": {},
   "source": [
    "# Determinando la existencia de una clave en un diccionario\n"
   ]
  },
  {
   "cell_type": "code",
   "execution_count": 38,
   "metadata": {},
   "outputs": [
    {
     "name": "stdout",
     "output_type": "stream",
     "text": [
      "3.1\n"
     ]
    }
   ],
   "source": [
    "\n",
    "rainfall = {\n",
    "    'october': 3.5,\n",
    "    'november': 4.2,\n",
    "    'december': 2.1\n",
    "}\n",
    "\n",
    "if 'december' in rainfall:\n",
    "    rainfall['december'] = rainfall['december'] + 1;\n",
    "    print(rainfall['december']);\n",
    "else:\n",
    "    rainfall['december'] = 1;\n",
    "    print(rainfall['december']);"
   ]
  },
  {
   "cell_type": "markdown",
   "metadata": {},
   "source": [
    "# Recuper todos los valores de un diccionario"
   ]
  },
  {
   "cell_type": "code",
   "execution_count": 45,
   "metadata": {},
   "outputs": [
    {
     "name": "stdout",
     "output_type": "stream",
     "text": [
      "There was 9.8cm in the last quarter\n"
     ]
    }
   ],
   "source": [
    "\n",
    "\n",
    "rainfall = {\n",
    "    'october': 3.5,\n",
    "    'november': 4.2,\n",
    "    'december': 2.1\n",
    "};\n",
    "total_rainfall = 0;\n",
    "\n",
    "for value in rainfall.values():\n",
    "    total_rainfall = total_rainfall + value;\n",
    "print(f'There was {total_rainfall}cm in the last quarter');\n"
   ]
  }
 ],
 "metadata": {
  "interpreter": {
   "hash": "4a6d069c607df1fa5b18261818fbc40aef308d608c77693896acd859bd673731"
  },
  "kernelspec": {
   "display_name": "Python 3.10.2 64-bit",
   "language": "python",
   "name": "python3"
  },
  "language_info": {
   "codemirror_mode": {
    "name": "ipython",
    "version": 3
   },
   "file_extension": ".py",
   "mimetype": "text/x-python",
   "name": "python",
   "nbconvert_exporter": "python",
   "pygments_lexer": "ipython3",
   "version": "3.10.2"
  },
  "orig_nbformat": 4
 },
 "nbformat": 4,
 "nbformat_minor": 2
}
