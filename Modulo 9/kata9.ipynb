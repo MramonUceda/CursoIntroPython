{
 "cells": [
  {
   "cell_type": "markdown",
   "metadata": {},
   "source": [
    "# Ejercicio 1"
   ]
  },
  {
   "cell_type": "code",
   "execution_count": 23,
   "metadata": {},
   "outputs": [
    {
     "name": "stdout",
     "output_type": "stream",
     "text": [
      "4.0\n"
     ]
    }
   ],
   "source": [
    "def promedio(valorUno, valorDos, valorTres):\n",
    "    sacandoPromedio = externaProm(valorUno,valorDos,valorTres);\n",
    "    print(sacandoPromedio);\n",
    "\n",
    "def externaProm(valorUno,valorDos,valorTres):\n",
    "    return (valorUno+valorDos+valorTres)/3;\n",
    "\n",
    "\n",
    "promedio(2, 4, 6);\n"
   ]
  },
  {
   "cell_type": "markdown",
   "metadata": {},
   "source": [
    "# Ejercicio 2"
   ]
  },
  {
   "cell_type": "code",
   "execution_count": 21,
   "metadata": {},
   "outputs": [
    {
     "name": "stdout",
     "output_type": "stream",
     "text": [
      "Hora de lanzamiento: 5\n",
      " Tiempo de vuelo: 30\n",
      " DestinoJupiter\n",
      " Tanque externo: 500000000\n",
      " Tanque interno: 90000000000\n",
      "-------------\n",
      " Misión a Jupiter , Tiempo de viaje en minutos: 30 , Reserva total de combustible: 90005000interno Tanque :  90000000 liquido sobrante \n",
      "externo Tanque :  5000 liquido sobrante \n",
      "\n"
     ]
    }
   ],
   "source": [
    "def reporte(horaLanzamiento, tiempoVuelo, destino, tanqueExterno, tanqueInterno):\n",
    "    return \"Hora de lanzamiento: \" + str(horaLanzamiento) +\"\\n Tiempo de vuelo: \" + str(tiempoVuelo) + \"\\n Destino\" + destino + \"\\n Tanque externo: \" + str(tanqueExterno) + \"\\n Tanque interno: \" + str(tanqueInterno)\n",
    "\n",
    "print(reporte(5, 30, \"Jupiter\", 500000000, 90000000000));\n",
    "\n",
    "\n",
    "\n",
    "\n",
    "print(\"-------------\");\n",
    "\n",
    "\n",
    "\n",
    "\n",
    "\n",
    "def reporte2(destino, *minutes, **fuel_reservoirs):\n",
    "    resporteInfo = f\"\"\" Misión a {destino} , Tiempo de viaje en minutos: {sum(minutes)} , Reserva total de combustible: {sum(fuel_reservoirs.values())}\"\"\"\n",
    "    for nombreTanque, liquido in fuel_reservoirs.items():\n",
    "        resporteInfo += f\"{nombreTanque} Tanque :  {liquido} liquido sobrante \\n\"\n",
    "    return resporteInfo\n",
    "\n",
    "resporteInfo2 = reporte2(\"Jupiter\", 3, 7, 20, interno=90000000, externo=5000);\n",
    "print(resporteInfo2);\n",
    "\n",
    "\n",
    "\n",
    "\n",
    "\n",
    "\n",
    "\n",
    "\n",
    "\n",
    "\n",
    "\n",
    "\n",
    "\n",
    "\n",
    "\n"
   ]
  }
 ],
 "metadata": {
  "interpreter": {
   "hash": "4a6d069c607df1fa5b18261818fbc40aef308d608c77693896acd859bd673731"
  },
  "kernelspec": {
   "display_name": "Python 3.10.2 64-bit",
   "language": "python",
   "name": "python3"
  },
  "language_info": {
   "codemirror_mode": {
    "name": "ipython",
    "version": 3
   },
   "file_extension": ".py",
   "mimetype": "text/x-python",
   "name": "python",
   "nbconvert_exporter": "python",
   "pygments_lexer": "ipython3",
   "version": "3.10.2"
  },
  "orig_nbformat": 4
 },
 "nbformat": 4,
 "nbformat_minor": 2
}
