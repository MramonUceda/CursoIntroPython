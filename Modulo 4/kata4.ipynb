{
 "cells": [
  {
   "cell_type": "markdown",
   "metadata": {},
   "source": [
    "# Ejericio 1"
   ]
  },
  {
   "cell_type": "code",
   "execution_count": 26,
   "metadata": {},
   "outputs": [
    {
     "name": "stdout",
     "output_type": "stream",
     "text": [
      "Interesting facts about the Moon\n",
      "---------------------------------------\n",
      "Interesting facts about the Moon\n",
      " The Moon is Earth's only satellite\n",
      " There are several interesting facts about the Moon and how it affects life here on Earth\n",
      " \n",
      "On average, the Moon moves 4cm away from the Earth every year\n",
      " The highest daylight temperature of the Moon is 127 C\n"
     ]
    }
   ],
   "source": [
    "text = \"\"\"Interesting facts about the Moon. The Moon is Earth's only satellite. There are several interesting facts about the Moon and how it affects life here on Earth. \n",
    "On average, the Moon moves 4cm away from the Earth every year. This yearly drift is not significant enough to cause immediate effects on Earth. The highest daylight temperature of the Moon is 127 C.\"\"\"\n",
    "\n",
    "text2 = text.split('.');\n",
    "'Interesting facts about the Moon' in text2\n",
    "\n",
    "\n",
    "keyWord1 = \"Moon\";\n",
    "keyWord2 = \"Interesting\";\n",
    "keyWord3 = \"Earth\";\n",
    "\n",
    "arrayStrings = [keyWord1,keyWord2,keyWord3]\n",
    "\n",
    "\n",
    "for i in text2:\n",
    "    if keyWord2 in i:\n",
    "        print(i);\n",
    "        break;\n",
    "print(\"---------------------------------------\");\n",
    "for i in text2:\n",
    "    for key in arrayStrings:\n",
    "        if key in i:\n",
    "            print(i);\n",
    "        break;\n"
   ]
  },
  {
   "cell_type": "code",
   "execution_count": 29,
   "metadata": {},
   "outputs": [
    {
     "name": "stdout",
     "output_type": "stream",
     "text": [
      "Interesting facts about the Moon\n",
      " The Moon is Earth's only satellite\n",
      " There are several interesting facts about the Moon and how it affects life here on Earth\n",
      " \n",
      "On average, the Moon moves 4cm away from the Earth every year\n",
      " The highest daylight temperature of the Moon is 127 Celsius\n"
     ]
    }
   ],
   "source": [
    "text = \"\"\"Interesting facts about the Moon. The Moon is Earth's only satellite. There are several interesting facts about the Moon and how it affects life here on Earth. \n",
    "On average, the Moon moves 4cm away from the Earth every year. This yearly drift is not significant enough to cause immediate effects on Earth. The highest daylight temperature of the Moon is 127 C.\"\"\"\n",
    "text2 = text.split('.');\n",
    "\n",
    "keyWord1 = \"Moon\";\n",
    "keyWord2 = \"Interesting\";\n",
    "keyWord3 = \"Earth\";\n",
    "\n",
    "arrayStrings = [keyWord1,keyWord2,keyWord3]\n",
    "\n",
    "for i in text2:\n",
    "    for key in arrayStrings:\n",
    "        if key in i:\n",
    "            print(i.replace('C',\"Celsius\"));\n",
    "        break;"
   ]
  },
  {
   "cell_type": "markdown",
   "metadata": {},
   "source": [
    "# Ejercicio 2"
   ]
  },
  {
   "cell_type": "code",
   "execution_count": 22,
   "metadata": {},
   "outputs": [
    {
     "name": "stdout",
     "output_type": "stream",
     "text": [
      "datos de la gravedad sobre Moon\n",
      "---------------------\n",
      "\n",
      "--------------------------------------------\n",
      "Nombre del planeta: Earth \n",
      "Gravedad en Moon: 1.6199999999999999  m/s2\n",
      "\n",
      "*******************************\n",
      "Datos De La Gravedad Sobre Moon\n",
      "\n",
      "--------------------------------------------\n",
      "Nombre del planeta: Earth \n",
      "Gravedad en Moon: 1.6199999999999999  m/s2\n",
      "\n",
      "\n",
      "*-*-*-*-*-*-*-*-*-*-**-*-*-\n",
      "\n",
      "--------------------------------------------\n",
      "Nombre del planeta: Earth \n",
      "Gravedad en Moon: 1.6199999999999999  m/s2\n",
      "\n",
      "\n",
      "Datos de Gravedad sobre: Moon\n",
      "-------------------------------------------------------------------------------\n",
      "Nombre del planeta: Earth\n",
      "Gravedad en Moon: 0.00162 m/s2\n",
      "\n"
     ]
    }
   ],
   "source": [
    "name = \"Moon\";\n",
    "gravity = 0.00162; # kms\n",
    "planet = \"Earth\";\n",
    "\n",
    "titulo = f'datos de la gravedad sobre {name}';\n",
    "print(titulo);\n",
    "\n",
    "\n",
    "\n",
    "print(\"---------------------\");\n",
    "\n",
    "body = f\"\"\"\n",
    "--------------------------------------------\n",
    "Nombre del planeta: {planet} \n",
    "Gravedad en {name}: {gravity * 1000}  m/s2\n",
    "\"\"\"\n",
    "print(body);\n",
    "\n",
    "\n",
    "\n",
    "\n",
    "print(\"*******************************\");\n",
    "\n",
    "\n",
    "concat = f\"\"\"{titulo.title()}\n",
    "{body}\n",
    "\"\"\";\n",
    "\n",
    "print(concat);\n",
    "\n",
    "\n",
    "\n",
    "print('*-*-*-*-*-*-*-*-*-*-**-*-*-');\n",
    "\n",
    "planeta = 'Marte '\n",
    "gravedad  = 0.00143\n",
    "nombre = 'Ganímedes'\n",
    "\n",
    "\n",
    "print(body);\n",
    "\n",
    "nueva = f\"\"\"\n",
    "Datos de Gravedad sobre: {name}\n",
    "-------------------------------------------------------------------------------\n",
    "Nombre del planeta: {planet}\n",
    "Gravedad en {name}: {gravity} m/s2\n",
    "\"\"\"\n",
    "\n",
    "print(nueva)\n",
    "\n",
    "\n",
    "nueva1 = \"\"\"\n",
    "Datos de Gravedad sobre: {name}\n",
    "-------------------------------------------------------------------------------\n",
    "Nombre del planeta: {planet}\n",
    "Gravedad en {name}: {gravity} m/s2\n",
    "\"\"\".format(name=name, planet=planet, gravity=gravity);\n",
    "\n"
   ]
  }
 ],
 "metadata": {
  "interpreter": {
   "hash": "4a6d069c607df1fa5b18261818fbc40aef308d608c77693896acd859bd673731"
  },
  "kernelspec": {
   "display_name": "Python 3.10.2 64-bit",
   "language": "python",
   "name": "python3"
  },
  "language_info": {
   "codemirror_mode": {
    "name": "ipython",
    "version": 3
   },
   "file_extension": ".py",
   "mimetype": "text/x-python",
   "name": "python",
   "nbconvert_exporter": "python",
   "pygments_lexer": "ipython3",
   "version": "3.10.2"
  },
  "orig_nbformat": 4
 },
 "nbformat": 4,
 "nbformat_minor": 2
}
